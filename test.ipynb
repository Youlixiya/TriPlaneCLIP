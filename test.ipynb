{
 "cells": [
  {
   "cell_type": "code",
   "execution_count": 1,
   "metadata": {},
   "outputs": [
    {
     "name": "stderr",
     "output_type": "stream",
     "text": [
      "/home/shangyu/Cyberpunk8T/anaconda_space/envs/langsplat/lib/python3.9/site-packages/numba/np/ufunc/parallel.py:371: NumbaWarning: \u001b[1mThe TBB threading layer requires TBB version 2021 update 6 or later i.e., TBB_INTERFACE_VERSION >= 12060. Found TBB_INTERFACE_VERSION = 12050. The TBB threading layer is disabled.\u001b[0m\n",
      "  warnings.warn(problem)\n"
     ]
    }
   ],
   "source": [
    "from tsr.system import TSR\n",
    "pretrained_model_name_or_path = \"stabilityai/TripoSR\"\n",
    "model = TSR.from_pretrained(\n",
    "    pretrained_model_name_or_path,\n",
    "    config_name=\"config.yaml\",\n",
    "    weight_name=\"model.ckpt\",\n",
    ")"
   ]
  },
  {
   "cell_type": "code",
   "execution_count": 2,
   "metadata": {},
   "outputs": [
    {
     "data": {
      "text/plain": [
       "TSR(\n",
       "  (image_tokenizer): DINOSingleImageTokenizer(\n",
       "    (model): ViTModel(\n",
       "      (embeddings): ViTEmbeddings(\n",
       "        (patch_embeddings): ViTPatchEmbeddings(\n",
       "          (projection): Conv2d(3, 768, kernel_size=(16, 16), stride=(16, 16))\n",
       "        )\n",
       "        (dropout): Dropout(p=0.0, inplace=False)\n",
       "      )\n",
       "      (encoder): ViTEncoder(\n",
       "        (layer): ModuleList(\n",
       "          (0-11): 12 x ViTLayer(\n",
       "            (attention): ViTAttention(\n",
       "              (attention): ViTSelfAttention(\n",
       "                (query): Linear(in_features=768, out_features=768, bias=True)\n",
       "                (key): Linear(in_features=768, out_features=768, bias=True)\n",
       "                (value): Linear(in_features=768, out_features=768, bias=True)\n",
       "                (dropout): Dropout(p=0.0, inplace=False)\n",
       "              )\n",
       "              (output): ViTSelfOutput(\n",
       "                (dense): Linear(in_features=768, out_features=768, bias=True)\n",
       "                (dropout): Dropout(p=0.0, inplace=False)\n",
       "              )\n",
       "            )\n",
       "            (intermediate): ViTIntermediate(\n",
       "              (dense): Linear(in_features=768, out_features=3072, bias=True)\n",
       "              (intermediate_act_fn): GELUActivation()\n",
       "            )\n",
       "            (output): ViTOutput(\n",
       "              (dense): Linear(in_features=3072, out_features=768, bias=True)\n",
       "              (dropout): Dropout(p=0.0, inplace=False)\n",
       "            )\n",
       "            (layernorm_before): LayerNorm((768,), eps=1e-12, elementwise_affine=True)\n",
       "            (layernorm_after): LayerNorm((768,), eps=1e-12, elementwise_affine=True)\n",
       "          )\n",
       "        )\n",
       "      )\n",
       "      (layernorm): LayerNorm((768,), eps=1e-12, elementwise_affine=True)\n",
       "      (pooler): ViTPooler(\n",
       "        (dense): Linear(in_features=768, out_features=768, bias=True)\n",
       "        (activation): Tanh()\n",
       "      )\n",
       "    )\n",
       "  )\n",
       "  (tokenizer): Triplane1DTokenizer()\n",
       "  (backbone): Transformer1D(\n",
       "    (norm): GroupNorm(32, 1024, eps=1e-06, affine=True)\n",
       "    (proj_in): Linear(in_features=1024, out_features=1024, bias=True)\n",
       "    (transformer_blocks): ModuleList(\n",
       "      (0-15): 16 x BasicTransformerBlock(\n",
       "        (norm1): LayerNorm((1024,), eps=1e-05, elementwise_affine=True)\n",
       "        (attn1): Attention(\n",
       "          (to_q): Linear(in_features=1024, out_features=1024, bias=False)\n",
       "          (to_k): Linear(in_features=1024, out_features=1024, bias=False)\n",
       "          (to_v): Linear(in_features=1024, out_features=1024, bias=False)\n",
       "          (to_out): ModuleList(\n",
       "            (0): Linear(in_features=1024, out_features=1024, bias=True)\n",
       "            (1): Dropout(p=0.0, inplace=False)\n",
       "          )\n",
       "        )\n",
       "        (norm2): LayerNorm((1024,), eps=1e-05, elementwise_affine=True)\n",
       "        (attn2): Attention(\n",
       "          (to_q): Linear(in_features=1024, out_features=1024, bias=False)\n",
       "          (to_k): Linear(in_features=768, out_features=1024, bias=False)\n",
       "          (to_v): Linear(in_features=768, out_features=1024, bias=False)\n",
       "          (to_out): ModuleList(\n",
       "            (0): Linear(in_features=1024, out_features=1024, bias=True)\n",
       "            (1): Dropout(p=0.0, inplace=False)\n",
       "          )\n",
       "        )\n",
       "        (norm3): LayerNorm((1024,), eps=1e-05, elementwise_affine=True)\n",
       "        (ff): FeedForward(\n",
       "          (net): ModuleList(\n",
       "            (0): GEGLU(\n",
       "              (proj): Linear(in_features=1024, out_features=8192, bias=True)\n",
       "            )\n",
       "            (1): Dropout(p=0.0, inplace=False)\n",
       "            (2): Linear(in_features=4096, out_features=1024, bias=True)\n",
       "          )\n",
       "        )\n",
       "      )\n",
       "    )\n",
       "    (proj_out): Linear(in_features=1024, out_features=1024, bias=True)\n",
       "  )\n",
       "  (post_processor): TriplaneUpsampleNetwork(\n",
       "    (upsample): ConvTranspose2d(1024, 40, kernel_size=(2, 2), stride=(2, 2))\n",
       "  )\n",
       "  (decoder): NeRFMLP(\n",
       "    (layers): Sequential(\n",
       "      (0): Linear(in_features=120, out_features=64, bias=True)\n",
       "      (1): SiLU(inplace=True)\n",
       "      (2): Linear(in_features=64, out_features=64, bias=True)\n",
       "      (3): SiLU(inplace=True)\n",
       "      (4): Linear(in_features=64, out_features=64, bias=True)\n",
       "      (5): SiLU(inplace=True)\n",
       "      (6): Linear(in_features=64, out_features=64, bias=True)\n",
       "      (7): SiLU(inplace=True)\n",
       "      (8): Linear(in_features=64, out_features=64, bias=True)\n",
       "      (9): SiLU(inplace=True)\n",
       "      (10): Linear(in_features=64, out_features=64, bias=True)\n",
       "      (11): SiLU(inplace=True)\n",
       "      (12): Linear(in_features=64, out_features=64, bias=True)\n",
       "      (13): SiLU(inplace=True)\n",
       "      (14): Linear(in_features=64, out_features=64, bias=True)\n",
       "      (15): SiLU(inplace=True)\n",
       "      (16): Linear(in_features=64, out_features=64, bias=True)\n",
       "      (17): SiLU(inplace=True)\n",
       "      (18): Linear(in_features=64, out_features=4, bias=True)\n",
       "    )\n",
       "  )\n",
       "  (renderer): TriplaneNeRFRenderer()\n",
       ")"
      ]
     },
     "execution_count": 2,
     "metadata": {},
     "output_type": "execute_result"
    }
   ],
   "source": [
    "model"
   ]
  },
  {
   "cell_type": "code",
   "execution_count": 1,
   "metadata": {},
   "outputs": [
    {
     "name": "stderr",
     "output_type": "stream",
     "text": [
      "/home/shangyu/Cyberpunk8T/anaconda_space/envs/langsplat/lib/python3.9/site-packages/numba/np/ufunc/parallel.py:371: NumbaWarning: \u001b[1mThe TBB threading layer requires TBB version 2021 update 6 or later i.e., TBB_INTERFACE_VERSION >= 12060. Found TBB_INTERFACE_VERSION = 12050. The TBB threading layer is disabled.\u001b[0m\n",
      "  warnings.warn(problem)\n",
      "2024-03-06 20:54:23.133134132 [W:onnxruntime:Default, onnxruntime_pybind_state.cc:614 CreateExecutionProviderInstance] Failed to create TensorrtExecutionProvider. Please reference https://onnxruntime.ai/docs/execution-providers/TensorRT-ExecutionProvider.html#requirements to ensure all dependencies are met.\n"
     ]
    }
   ],
   "source": [
    "import argparse\n",
    "import logging\n",
    "import os\n",
    "import time\n",
    "\n",
    "import numpy as np\n",
    "import rembg\n",
    "import torch\n",
    "from PIL import Image\n",
    "\n",
    "from tsr.system import TSR\n",
    "from tsr.utils import remove_background, resize_foreground, save_video\n",
    "no_remove_bg = False\n",
    "image = ['examples/unicorn.png']\n",
    "images = []\n",
    "foreground_ratio = 0.85\n",
    "if no_remove_bg:\n",
    "    rembg_session = None\n",
    "else:\n",
    "    rembg_session = rembg.new_session()\n",
    "for i, image_path in enumerate(image):\n",
    "    if no_remove_bg:\n",
    "        image = np.array(Image.open(image_path).convert(\"RGB\"))\n",
    "    else:\n",
    "        image = remove_background(Image.open(image_path), rembg_session)\n",
    "        image = resize_foreground(image, foreground_ratio)\n",
    "        image = np.array(image).astype(np.float32) / 255.0\n",
    "        image = image[:, :, :3] * image[:, :, 3:4] + (1 - image[:, :, 3:4]) * 0.5\n",
    "        image = Image.fromarray((image * 255.0).astype(np.uint8))\n",
    "        # if not os.path.exists(os.path.join(output_dir, str(i))):\n",
    "        #     os.makedirs(os.path.join(output_dir, str(i)))\n",
    "        # image.save(os.path.join(output_dir, str(i), f\"input.png\"))\n",
    "    images.append(image)"
   ]
  },
  {
   "cell_type": "code",
   "execution_count": 4,
   "metadata": {},
   "outputs": [],
   "source": [
    "device = 'cpu'\n",
    "with torch.no_grad():\n",
    "        scene_codes = model([image, image], device=device)"
   ]
  },
  {
   "cell_type": "code",
   "execution_count": 5,
   "metadata": {},
   "outputs": [
    {
     "data": {
      "text/plain": [
       "torch.Size([2, 3, 40, 64, 64])"
      ]
     },
     "execution_count": 5,
     "metadata": {},
     "output_type": "execute_result"
    }
   ],
   "source": [
    "scene_codes.shape"
   ]
  },
  {
   "cell_type": "code",
   "execution_count": 6,
   "metadata": {},
   "outputs": [
    {
     "data": {
      "text/plain": [
       "torch.Size([2, 120, 64, 64])"
      ]
     },
     "execution_count": 6,
     "metadata": {},
     "output_type": "execute_result"
    }
   ],
   "source": [
    "b, n, c, h, w = scene_codes.shape\n",
    "scene_tokens = scene_codes.permute(0, 2, 1, 3, 4).reshape(b, n*c, h, w)\n",
    "scene_tokens.shape"
   ]
  },
  {
   "cell_type": "code",
   "execution_count": 2,
   "metadata": {},
   "outputs": [],
   "source": [
    "from triplane_clip import TriPlaneCLIPVisionModel, TriPlaneCLIPVisionConfig\n",
    "from transformers import CLIPVisionModel, CLIPProcessor\n",
    "vision_config = TriPlaneCLIPVisionConfig()\n",
    "vision = TriPlaneCLIPVisionModel(vision_config)\n",
    "clip_vision = CLIPVisionModel.from_pretrained(\"openai/clip-vit-large-patch14\")\n",
    "processor = CLIPProcessor.from_pretrained(\"openai/clip-vit-large-patch14\")"
   ]
  },
  {
   "cell_type": "code",
   "execution_count": 3,
   "metadata": {},
   "outputs": [],
   "source": [
    "import torch\n",
    "out = vision(images = images)\n",
    "# out = vision(pixel_values = scene_tokens)"
   ]
  },
  {
   "cell_type": "code",
   "execution_count": 4,
   "metadata": {},
   "outputs": [
    {
     "data": {
      "text/plain": [
       "torch.Size([1, 1024])"
      ]
     },
     "execution_count": 4,
     "metadata": {},
     "output_type": "execute_result"
    }
   ],
   "source": [
    "out.pooler_output.shape"
   ]
  },
  {
   "cell_type": "code",
   "execution_count": 12,
   "metadata": {},
   "outputs": [],
   "source": [
    "inputs = processor(images=image, return_tensors=\"pt\")\n",
    "clip_out = clip_vision(**inputs)"
   ]
  },
  {
   "cell_type": "code",
   "execution_count": 14,
   "metadata": {},
   "outputs": [
    {
     "data": {
      "text/plain": [
       "torch.Size([1, 1024])"
      ]
     },
     "execution_count": 14,
     "metadata": {},
     "output_type": "execute_result"
    }
   ],
   "source": [
    "clip_out.pooler_output.shape"
   ]
  },
  {
   "cell_type": "code",
   "execution_count": 16,
   "metadata": {},
   "outputs": [
    {
     "data": {
      "text/plain": [
       "tensor(2.0791, grad_fn=<MseLossBackward0>)"
      ]
     },
     "execution_count": 16,
     "metadata": {},
     "output_type": "execute_result"
    }
   ],
   "source": [
    "from torch import nn\n",
    "\n",
    "nn.MSELoss()(out.pooler_output, clip_out.pooler_output)"
   ]
  },
  {
   "cell_type": "code",
   "execution_count": 1,
   "metadata": {},
   "outputs": [],
   "source": [
    "import os\n",
    "\n",
    "img = os.listdir('data/objaverse/Cap3D_imgs_view0')"
   ]
  },
  {
   "cell_type": "code",
   "execution_count": 2,
   "metadata": {},
   "outputs": [
    {
     "data": {
      "text/plain": [
       "'8b5e46f712e9450cab09bf31fb29e3c5'"
      ]
     },
     "execution_count": 2,
     "metadata": {},
     "output_type": "execute_result"
    }
   ],
   "source": [
    "img[0]"
   ]
  },
  {
   "cell_type": "code",
   "execution_count": 4,
   "metadata": {},
   "outputs": [],
   "source": [
    "from PIL import Image\n",
    "image = Image.open('data/objaverse/Cap3D_imgs_view0/8b5e46f712e9450cab09bf31fb29e3c5')"
   ]
  },
  {
   "cell_type": "code",
   "execution_count": 5,
   "metadata": {},
   "outputs": [
    {
     "data": {
      "text/plain": [
       "(512, 512)"
      ]
     },
     "execution_count": 5,
     "metadata": {},
     "output_type": "execute_result"
    }
   ],
   "source": [
    "image.size"
   ]
  },
  {
   "cell_type": "code",
   "execution_count": null,
   "metadata": {},
   "outputs": [],
   "source": []
  }
 ],
 "metadata": {
  "kernelspec": {
   "display_name": "langsplat",
   "language": "python",
   "name": "python3"
  },
  "language_info": {
   "codemirror_mode": {
    "name": "ipython",
    "version": 3
   },
   "file_extension": ".py",
   "mimetype": "text/x-python",
   "name": "python",
   "nbconvert_exporter": "python",
   "pygments_lexer": "ipython3",
   "version": "3.9.18"
  }
 },
 "nbformat": 4,
 "nbformat_minor": 2
}
